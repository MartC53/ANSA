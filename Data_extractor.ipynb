{
 "cells": [
  {
   "cell_type": "code",
   "execution_count": null,
   "metadata": {},
   "outputs": [],
   "source": [
    "import os\n",
    "import torch\n",
    "import numpy as np\n",
    "from skimage.io import imread\n"
   ]
  },
  {
   "cell_type": "code",
   "execution_count": null,
   "metadata": {},
   "outputs": [],
   "source": [
    "# Directories\n",
    "input_dir = \"G:/Shared drives/Posner Group Current/Cole's Files/ANSA/RPA on glass slides/100_serial/processed\"\n",
    "output_dir = \"G:/Shared drives/Posner Group Current/Cole's Files/ANSA/RPA on glass slides/100_serial/torch_tensors\"\n",
    "os.makedirs(output_dir, exist_ok=True)\n",
    "\n",
    "# Function to get all image paths and their labels\n",
    "def get_image_paths_and_labels(root_dir):\n",
    "    image_data = []\n",
    "    for label in os.listdir(root_dir):\n",
    "        label_path = os.path.join(root_dir, label)\n",
    "        if os.path.isdir(label_path):\n",
    "            for idx, image_name in enumerate(os.listdir(label_path)):\n",
    "                if image_name.lower().endswith('.tif'):\n",
    "                    image_path = os.path.join(label_path, image_name)\n",
    "                    image_data.append((image_path, f\"{label}_{idx+1}\"))\n",
    "    return image_data\n",
    "\n",
    "# Get all image paths and labels\n",
    "image_data = get_image_paths_and_labels(input_dir)\n",
    "\n",
    "# Find the largest image dimensions across all time series stacks\n",
    "max_frames, max_height, max_width = 0, 0, 0\n",
    "for img_path, _ in image_data:\n",
    "    image_stack = imread(img_path)\n",
    "    f, h, w = image_stack.shape\n",
    "    max_frames = max(max_frames, f)\n",
    "    max_height = max(max_height, h)\n",
    "    max_width = max(max_width, w)\n",
    "\n",
    "print(f\"Largest dimensions found: {max_frames}x{max_height}x{max_width}\")\n",
    "\n",
    "# Pad and save images as .pt files\n",
    "for img_path, label in image_data:\n",
    "    image_stack = imread(img_path)  # Read the full 3D stack\n",
    "    f, h, w = image_stack.shape\n",
    "\n",
    "    # Calculate padding needed\n",
    "    pad_frames = max_frames - f\n",
    "    pad_height = max_height - h\n",
    "    pad_width = max_width - w\n",
    "\n",
    "    # Apply padding\n",
    "    padded_image = np.pad(image_stack, \n",
    "                          ((0, pad_frames), (0, pad_height), (0, pad_width)), \n",
    "                          mode='constant', constant_values=0)\n",
    "\n",
    "    # Convert to tensor and save\n",
    "    tensor_image = torch.tensor(padded_image, dtype=torch.float32).unsqueeze(0)  # Add channel dimension 1 for grayscale\n",
    "    save_path = os.path.join(output_dir, f\"{label}.pt\")\n",
    "    torch.save(tensor_image, save_path)\n",
    "\n",
    "    print(f\"Saved: {save_path}\")\n",
    "\n",
    "print(\"Done\")\n"
   ]
  }
 ],
 "metadata": {
  "language_info": {
   "name": "python"
  },
  "orig_nbformat": 4
 },
 "nbformat": 4,
 "nbformat_minor": 2
}
